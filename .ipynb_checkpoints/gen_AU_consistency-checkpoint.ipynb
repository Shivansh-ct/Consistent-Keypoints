{
 "cells": [
  {
   "cell_type": "code",
   "execution_count": 14,
   "id": "f3b0ee4a",
   "metadata": {},
   "outputs": [],
   "source": [
    "import pandas as pd\n",
    "import numpy as np\n",
    "import matplotlib.pyplot as plt"
   ]
  },
  {
   "cell_type": "code",
   "execution_count": 15,
   "id": "803e9d89",
   "metadata": {},
   "outputs": [],
   "source": [
    "au_labelings_path = \"Data/all_au_labelings.csv\""
   ]
  },
  {
   "cell_type": "code",
   "execution_count": 16,
   "id": "774f19ab",
   "metadata": {},
   "outputs": [],
   "source": [
    "df_au_labelings = pd.read_csv(au_labelings_path)"
   ]
  },
  {
   "cell_type": "code",
   "execution_count": 17,
   "id": "11e75418",
   "metadata": {},
   "outputs": [],
   "source": [
    "columns_to_convert = ['AU1', 'AU12', 'AU15', 'AU17', 'AU2', 'AU20', 'AU25', 'AU26', 'AU4', 'AU5', 'AU6', 'AU9']\n",
    "\n",
    "df_au_labelings[columns_to_convert] = df_au_labelings[columns_to_convert].applymap(lambda x: 1 if x >= 1 else x)"
   ]
  },
  {
   "cell_type": "code",
   "execution_count": 18,
   "id": "fd50a5e4",
   "metadata": {},
   "outputs": [],
   "source": [
    "temp_np = df_au_labelings.iloc[:, 3:].to_numpy()"
   ]
  },
  {
   "cell_type": "code",
   "execution_count": 19,
   "id": "aeb8dc0d",
   "metadata": {},
   "outputs": [
    {
     "data": {
      "text/plain": [
       "1.5076903083767792"
      ]
     },
     "execution_count": 19,
     "metadata": {},
     "output_type": "execute_result"
    }
   ],
   "source": [
    "np.mean(np.sum(temp_np, axis=1))"
   ]
  },
  {
   "cell_type": "code",
   "execution_count": 20,
   "id": "dbcf1268",
   "metadata": {},
   "outputs": [],
   "source": [
    "# List of columns to sum\n",
    "columns_to_sum = ['AU1', 'AU12', 'AU15', 'AU17', 'AU2', 'AU20', 'AU25', 'AU26', 'AU4', 'AU5', 'AU6', 'AU9']\n",
    "\n",
    "# Sum each column Frame_No wise\n",
    "sum_frame_wise = df_au_labelings.groupby('Frame_No')[columns_to_sum].sum().reset_index()\n",
    "\n",
    "# print(sum_frame_wise.shape)\n",
    "# # Display the result\n",
    "# print(sum_frame_wise.tail(10))"
   ]
  },
  {
   "cell_type": "code",
   "execution_count": 21,
   "id": "290b230a",
   "metadata": {},
   "outputs": [
    {
     "name": "stdout",
     "output_type": "stream",
     "text": [
      "      Frame_No  Row_Max\n",
      "4840    4841.0     16.0\n",
      "4841    4842.0     16.0\n",
      "4842    4843.0     16.0\n",
      "4843    4844.0     16.0\n",
      "4844    4845.0     16.0\n"
     ]
    }
   ],
   "source": [
    "# Assuming sum_frame_wise is your DataFrame from the previous code\n",
    "# If not, replace it with the actual DataFrame containing Frame_No wise sums\n",
    "\n",
    "# List of columns to consider\n",
    "columns_to_max = ['AU1', 'AU12', 'AU15', 'AU17', 'AU2', 'AU20', 'AU25', 'AU26', 'AU4', 'AU5', 'AU6', 'AU9']\n",
    "\n",
    "# Calculate row-wise maximum value considering specified columns\n",
    "sum_frame_wise['Row_Max'] = sum_frame_wise[columns_to_max].max(axis=1)\n",
    "\n",
    "# Display the result\n",
    "print(sum_frame_wise[['Frame_No', 'Row_Max']].tail())"
   ]
  },
  {
   "cell_type": "code",
   "execution_count": 22,
   "id": "0825fcfd",
   "metadata": {},
   "outputs": [],
   "source": [
    "AU_consistency = np.array(sum_frame_wise[['Row_Max']])\n",
    "np.savetxt(\"Data/AU_consistency.txt\", AU_consistency)"
   ]
  },
  {
   "cell_type": "code",
   "execution_count": null,
   "id": "a887002c",
   "metadata": {},
   "outputs": [],
   "source": [
    "np.argmin(AU_consistency)"
   ]
  },
  {
   "cell_type": "code",
   "execution_count": 31,
   "id": "f205c355",
   "metadata": {},
   "outputs": [
    {
     "data": {
      "text/plain": [
       "array([3.])"
      ]
     },
     "execution_count": 31,
     "metadata": {},
     "output_type": "execute_result"
    }
   ],
   "source": [
    "AU_consistency[3526]"
   ]
  },
  {
   "cell_type": "code",
   "execution_count": 32,
   "id": "89764589",
   "metadata": {},
   "outputs": [
    {
     "data": {
      "text/plain": [
       "array([3.])"
      ]
     },
     "execution_count": 32,
     "metadata": {},
     "output_type": "execute_result"
    }
   ],
   "source": [
    "AU_consistency[3741]"
   ]
  },
  {
   "cell_type": "code",
   "execution_count": null,
   "id": "d380e652",
   "metadata": {},
   "outputs": [],
   "source": []
  }
 ],
 "metadata": {
  "kernelspec": {
   "display_name": "Python 3 (ipykernel)",
   "language": "python",
   "name": "python3"
  },
  "language_info": {
   "codemirror_mode": {
    "name": "ipython",
    "version": 3
   },
   "file_extension": ".py",
   "mimetype": "text/x-python",
   "name": "python",
   "nbconvert_exporter": "python",
   "pygments_lexer": "ipython3",
   "version": "3.7.5"
  }
 },
 "nbformat": 4,
 "nbformat_minor": 5
}

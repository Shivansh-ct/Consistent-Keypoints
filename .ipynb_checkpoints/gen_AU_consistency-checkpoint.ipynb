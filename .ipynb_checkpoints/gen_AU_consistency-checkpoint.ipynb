{
 "cells": [
  {
   "cell_type": "code",
   "execution_count": 26,
   "id": "f3b0ee4a",
   "metadata": {},
   "outputs": [],
   "source": [
    "import pandas as pd\n",
    "import numpy as np\n",
    "import matplotlib.pyplot as plt"
   ]
  },
  {
   "cell_type": "code",
   "execution_count": 8,
   "id": "803e9d89",
   "metadata": {},
   "outputs": [],
   "source": [
    "au_labelings_path = \"Data/all_au_labelings.csv\""
   ]
  },
  {
   "cell_type": "code",
   "execution_count": 9,
   "id": "774f19ab",
   "metadata": {},
   "outputs": [],
   "source": [
    "df_au_labelings = pd.read_csv(au_labelings_path)"
   ]
  },
  {
   "cell_type": "code",
   "execution_count": 10,
   "id": "38672ec8",
   "metadata": {},
   "outputs": [
    {
     "data": {
      "text/html": [
       "<div>\n",
       "<style scoped>\n",
       "    .dataframe tbody tr th:only-of-type {\n",
       "        vertical-align: middle;\n",
       "    }\n",
       "\n",
       "    .dataframe tbody tr th {\n",
       "        vertical-align: top;\n",
       "    }\n",
       "\n",
       "    .dataframe thead th {\n",
       "        text-align: right;\n",
       "    }\n",
       "</style>\n",
       "<table border=\"1\" class=\"dataframe\">\n",
       "  <thead>\n",
       "    <tr style=\"text-align: right;\">\n",
       "      <th></th>\n",
       "      <th>Unnamed: 0</th>\n",
       "      <th>Subject_No</th>\n",
       "      <th>Frame_No</th>\n",
       "      <th>AU1</th>\n",
       "      <th>AU12</th>\n",
       "      <th>AU15</th>\n",
       "      <th>AU17</th>\n",
       "      <th>AU2</th>\n",
       "      <th>AU20</th>\n",
       "      <th>AU25</th>\n",
       "      <th>AU26</th>\n",
       "      <th>AU4</th>\n",
       "      <th>AU5</th>\n",
       "      <th>AU6</th>\n",
       "      <th>AU9</th>\n",
       "    </tr>\n",
       "  </thead>\n",
       "  <tbody>\n",
       "    <tr>\n",
       "      <th>0</th>\n",
       "      <td>0</td>\n",
       "      <td>1.0</td>\n",
       "      <td>1.0</td>\n",
       "      <td>0.0</td>\n",
       "      <td>2.0</td>\n",
       "      <td>0.0</td>\n",
       "      <td>0.0</td>\n",
       "      <td>0.0</td>\n",
       "      <td>0.0</td>\n",
       "      <td>0.0</td>\n",
       "      <td>0.0</td>\n",
       "      <td>0.0</td>\n",
       "      <td>0.0</td>\n",
       "      <td>0.0</td>\n",
       "      <td>0.0</td>\n",
       "    </tr>\n",
       "    <tr>\n",
       "      <th>1</th>\n",
       "      <td>1</td>\n",
       "      <td>1.0</td>\n",
       "      <td>2.0</td>\n",
       "      <td>0.0</td>\n",
       "      <td>2.0</td>\n",
       "      <td>0.0</td>\n",
       "      <td>0.0</td>\n",
       "      <td>0.0</td>\n",
       "      <td>0.0</td>\n",
       "      <td>0.0</td>\n",
       "      <td>0.0</td>\n",
       "      <td>0.0</td>\n",
       "      <td>0.0</td>\n",
       "      <td>0.0</td>\n",
       "      <td>0.0</td>\n",
       "    </tr>\n",
       "    <tr>\n",
       "      <th>2</th>\n",
       "      <td>2</td>\n",
       "      <td>1.0</td>\n",
       "      <td>3.0</td>\n",
       "      <td>0.0</td>\n",
       "      <td>2.0</td>\n",
       "      <td>0.0</td>\n",
       "      <td>0.0</td>\n",
       "      <td>0.0</td>\n",
       "      <td>0.0</td>\n",
       "      <td>0.0</td>\n",
       "      <td>0.0</td>\n",
       "      <td>0.0</td>\n",
       "      <td>0.0</td>\n",
       "      <td>0.0</td>\n",
       "      <td>0.0</td>\n",
       "    </tr>\n",
       "    <tr>\n",
       "      <th>3</th>\n",
       "      <td>3</td>\n",
       "      <td>1.0</td>\n",
       "      <td>4.0</td>\n",
       "      <td>0.0</td>\n",
       "      <td>2.0</td>\n",
       "      <td>0.0</td>\n",
       "      <td>0.0</td>\n",
       "      <td>0.0</td>\n",
       "      <td>0.0</td>\n",
       "      <td>0.0</td>\n",
       "      <td>0.0</td>\n",
       "      <td>0.0</td>\n",
       "      <td>0.0</td>\n",
       "      <td>0.0</td>\n",
       "      <td>0.0</td>\n",
       "    </tr>\n",
       "    <tr>\n",
       "      <th>4</th>\n",
       "      <td>4</td>\n",
       "      <td>1.0</td>\n",
       "      <td>5.0</td>\n",
       "      <td>0.0</td>\n",
       "      <td>2.0</td>\n",
       "      <td>0.0</td>\n",
       "      <td>0.0</td>\n",
       "      <td>0.0</td>\n",
       "      <td>0.0</td>\n",
       "      <td>0.0</td>\n",
       "      <td>0.0</td>\n",
       "      <td>0.0</td>\n",
       "      <td>0.0</td>\n",
       "      <td>0.0</td>\n",
       "      <td>0.0</td>\n",
       "    </tr>\n",
       "    <tr>\n",
       "      <th>...</th>\n",
       "      <td>...</td>\n",
       "      <td>...</td>\n",
       "      <td>...</td>\n",
       "      <td>...</td>\n",
       "      <td>...</td>\n",
       "      <td>...</td>\n",
       "      <td>...</td>\n",
       "      <td>...</td>\n",
       "      <td>...</td>\n",
       "      <td>...</td>\n",
       "      <td>...</td>\n",
       "      <td>...</td>\n",
       "      <td>...</td>\n",
       "      <td>...</td>\n",
       "      <td>...</td>\n",
       "    </tr>\n",
       "    <tr>\n",
       "      <th>130809</th>\n",
       "      <td>4840</td>\n",
       "      <td>32.0</td>\n",
       "      <td>4841.0</td>\n",
       "      <td>0.0</td>\n",
       "      <td>0.0</td>\n",
       "      <td>0.0</td>\n",
       "      <td>0.0</td>\n",
       "      <td>0.0</td>\n",
       "      <td>0.0</td>\n",
       "      <td>3.0</td>\n",
       "      <td>0.0</td>\n",
       "      <td>5.0</td>\n",
       "      <td>0.0</td>\n",
       "      <td>3.0</td>\n",
       "      <td>5.0</td>\n",
       "    </tr>\n",
       "    <tr>\n",
       "      <th>130810</th>\n",
       "      <td>4841</td>\n",
       "      <td>32.0</td>\n",
       "      <td>4842.0</td>\n",
       "      <td>0.0</td>\n",
       "      <td>0.0</td>\n",
       "      <td>0.0</td>\n",
       "      <td>0.0</td>\n",
       "      <td>0.0</td>\n",
       "      <td>0.0</td>\n",
       "      <td>3.0</td>\n",
       "      <td>0.0</td>\n",
       "      <td>5.0</td>\n",
       "      <td>0.0</td>\n",
       "      <td>3.0</td>\n",
       "      <td>5.0</td>\n",
       "    </tr>\n",
       "    <tr>\n",
       "      <th>130811</th>\n",
       "      <td>4842</td>\n",
       "      <td>32.0</td>\n",
       "      <td>4843.0</td>\n",
       "      <td>0.0</td>\n",
       "      <td>0.0</td>\n",
       "      <td>0.0</td>\n",
       "      <td>0.0</td>\n",
       "      <td>0.0</td>\n",
       "      <td>0.0</td>\n",
       "      <td>3.0</td>\n",
       "      <td>0.0</td>\n",
       "      <td>5.0</td>\n",
       "      <td>0.0</td>\n",
       "      <td>3.0</td>\n",
       "      <td>5.0</td>\n",
       "    </tr>\n",
       "    <tr>\n",
       "      <th>130812</th>\n",
       "      <td>4843</td>\n",
       "      <td>32.0</td>\n",
       "      <td>4844.0</td>\n",
       "      <td>0.0</td>\n",
       "      <td>0.0</td>\n",
       "      <td>0.0</td>\n",
       "      <td>0.0</td>\n",
       "      <td>0.0</td>\n",
       "      <td>0.0</td>\n",
       "      <td>3.0</td>\n",
       "      <td>0.0</td>\n",
       "      <td>5.0</td>\n",
       "      <td>0.0</td>\n",
       "      <td>3.0</td>\n",
       "      <td>5.0</td>\n",
       "    </tr>\n",
       "    <tr>\n",
       "      <th>130813</th>\n",
       "      <td>4844</td>\n",
       "      <td>32.0</td>\n",
       "      <td>4845.0</td>\n",
       "      <td>0.0</td>\n",
       "      <td>0.0</td>\n",
       "      <td>0.0</td>\n",
       "      <td>0.0</td>\n",
       "      <td>0.0</td>\n",
       "      <td>0.0</td>\n",
       "      <td>3.0</td>\n",
       "      <td>0.0</td>\n",
       "      <td>5.0</td>\n",
       "      <td>0.0</td>\n",
       "      <td>3.0</td>\n",
       "      <td>5.0</td>\n",
       "    </tr>\n",
       "  </tbody>\n",
       "</table>\n",
       "<p>130814 rows × 15 columns</p>\n",
       "</div>"
      ],
      "text/plain": [
       "        Unnamed: 0  Subject_No  Frame_No  AU1  AU12  AU15  AU17  AU2  AU20  \\\n",
       "0                0         1.0       1.0  0.0   2.0   0.0   0.0  0.0   0.0   \n",
       "1                1         1.0       2.0  0.0   2.0   0.0   0.0  0.0   0.0   \n",
       "2                2         1.0       3.0  0.0   2.0   0.0   0.0  0.0   0.0   \n",
       "3                3         1.0       4.0  0.0   2.0   0.0   0.0  0.0   0.0   \n",
       "4                4         1.0       5.0  0.0   2.0   0.0   0.0  0.0   0.0   \n",
       "...            ...         ...       ...  ...   ...   ...   ...  ...   ...   \n",
       "130809        4840        32.0    4841.0  0.0   0.0   0.0   0.0  0.0   0.0   \n",
       "130810        4841        32.0    4842.0  0.0   0.0   0.0   0.0  0.0   0.0   \n",
       "130811        4842        32.0    4843.0  0.0   0.0   0.0   0.0  0.0   0.0   \n",
       "130812        4843        32.0    4844.0  0.0   0.0   0.0   0.0  0.0   0.0   \n",
       "130813        4844        32.0    4845.0  0.0   0.0   0.0   0.0  0.0   0.0   \n",
       "\n",
       "        AU25  AU26  AU4  AU5  AU6  AU9  \n",
       "0        0.0   0.0  0.0  0.0  0.0  0.0  \n",
       "1        0.0   0.0  0.0  0.0  0.0  0.0  \n",
       "2        0.0   0.0  0.0  0.0  0.0  0.0  \n",
       "3        0.0   0.0  0.0  0.0  0.0  0.0  \n",
       "4        0.0   0.0  0.0  0.0  0.0  0.0  \n",
       "...      ...   ...  ...  ...  ...  ...  \n",
       "130809   3.0   0.0  5.0  0.0  3.0  5.0  \n",
       "130810   3.0   0.0  5.0  0.0  3.0  5.0  \n",
       "130811   3.0   0.0  5.0  0.0  3.0  5.0  \n",
       "130812   3.0   0.0  5.0  0.0  3.0  5.0  \n",
       "130813   3.0   0.0  5.0  0.0  3.0  5.0  \n",
       "\n",
       "[130814 rows x 15 columns]"
      ]
     },
     "execution_count": 10,
     "metadata": {},
     "output_type": "execute_result"
    }
   ],
   "source": [
    "df_au_labelings"
   ]
  },
  {
   "cell_type": "code",
   "execution_count": 21,
   "id": "11e75418",
   "metadata": {},
   "outputs": [],
   "source": [
    "columns_to_convert = ['AU1', 'AU12', 'AU15', 'AU17', 'AU2', 'AU20', 'AU25', 'AU26', 'AU4', 'AU5', 'AU6', 'AU9']\n",
    "\n",
    "df_au_labelings[columns_to_convert] = df_au_labelings[columns_to_convert].applymap(lambda x: 1 if x >= 1 else x)"
   ]
  },
  {
   "cell_type": "code",
   "execution_count": 22,
   "id": "dbcf1268",
   "metadata": {},
   "outputs": [
    {
     "name": "stdout",
     "output_type": "stream",
     "text": [
      "(4845, 13)\n",
      "      Frame_No  AU1  AU12  AU15  AU17  AU2  AU20  AU25  AU26   AU4  AU5  AU6  \\\n",
      "4835    4836.0  5.0   4.0   4.0   3.0  4.0   1.0  16.0  10.0  12.0  0.0  6.0   \n",
      "4836    4837.0  5.0   4.0   4.0   3.0  4.0   1.0  16.0  11.0  12.0  0.0  6.0   \n",
      "4837    4838.0  6.0   4.0   4.0   3.0  5.0   1.0  16.0  11.0  12.0  0.0  6.0   \n",
      "4838    4839.0  6.0   4.0   4.0   3.0  5.0   1.0  16.0  12.0  12.0  0.0  6.0   \n",
      "4839    4840.0  6.0   3.0   4.0   3.0  5.0   1.0  16.0  12.0  12.0  0.0  6.0   \n",
      "4840    4841.0  6.0   3.0   4.0   3.0  5.0   1.0  16.0  12.0  12.0  0.0  6.0   \n",
      "4841    4842.0  5.0   3.0   4.0   3.0  5.0   1.0  16.0  12.0  12.0  0.0  6.0   \n",
      "4842    4843.0  5.0   3.0   4.0   3.0  5.0   1.0  16.0  12.0  12.0  0.0  6.0   \n",
      "4843    4844.0  5.0   2.0   4.0   3.0  5.0   1.0  16.0  12.0  12.0  0.0  6.0   \n",
      "4844    4845.0  5.0   2.0   4.0   3.0  5.0   1.0  16.0  12.0  11.0  0.0  6.0   \n",
      "\n",
      "      AU9  \n",
      "4835  9.0  \n",
      "4836  9.0  \n",
      "4837  9.0  \n",
      "4838  9.0  \n",
      "4839  9.0  \n",
      "4840  9.0  \n",
      "4841  9.0  \n",
      "4842  9.0  \n",
      "4843  9.0  \n",
      "4844  9.0  \n"
     ]
    }
   ],
   "source": [
    "# List of columns to sum\n",
    "columns_to_sum = ['AU1', 'AU12', 'AU15', 'AU17', 'AU2', 'AU20', 'AU25', 'AU26', 'AU4', 'AU5', 'AU6', 'AU9']\n",
    "\n",
    "# Sum each column Frame_No wise\n",
    "sum_frame_wise = df_au_labelings.groupby('Frame_No')[columns_to_sum].sum().reset_index()\n",
    "\n",
    "print(sum_frame_wise.shape)\n",
    "# Display the result\n",
    "print(sum_frame_wise.tail(10))"
   ]
  },
  {
   "cell_type": "code",
   "execution_count": 25,
   "id": "290b230a",
   "metadata": {},
   "outputs": [
    {
     "name": "stdout",
     "output_type": "stream",
     "text": [
      "      Frame_No  Row_Max\n",
      "4840    4841.0     16.0\n",
      "4841    4842.0     16.0\n",
      "4842    4843.0     16.0\n",
      "4843    4844.0     16.0\n",
      "4844    4845.0     16.0\n"
     ]
    }
   ],
   "source": [
    "# Assuming sum_frame_wise is your DataFrame from the previous code\n",
    "# If not, replace it with the actual DataFrame containing Frame_No wise sums\n",
    "\n",
    "# List of columns to consider\n",
    "columns_to_max = ['AU1', 'AU12', 'AU15', 'AU17', 'AU2', 'AU20', 'AU25', 'AU26', 'AU4', 'AU5', 'AU6', 'AU9']\n",
    "\n",
    "# Calculate row-wise maximum value considering specified columns\n",
    "sum_frame_wise['Row_Max'] = sum_frame_wise[columns_to_max].max(axis=1)\n",
    "\n",
    "# Display the result\n",
    "print(sum_frame_wise[['Frame_No', 'Row_Max']].tail())"
   ]
  },
  {
   "cell_type": "code",
   "execution_count": 28,
   "id": "0825fcfd",
   "metadata": {},
   "outputs": [],
   "source": [
    "AU_consistency = np.array(sum_frame_wise[['Row_Max']])\n",
    "np.savetxt(\"Data/AU_consistency.txt\", AU_consistency)"
   ]
  },
  {
   "cell_type": "code",
   "execution_count": 30,
   "id": "a887002c",
   "metadata": {},
   "outputs": [
    {
     "data": {
      "text/plain": [
       "3526"
      ]
     },
     "execution_count": 30,
     "metadata": {},
     "output_type": "execute_result"
    }
   ],
   "source": [
    "np.argmin(AU_consistency)"
   ]
  },
  {
   "cell_type": "code",
   "execution_count": 31,
   "id": "f205c355",
   "metadata": {},
   "outputs": [
    {
     "data": {
      "text/plain": [
       "array([3.])"
      ]
     },
     "execution_count": 31,
     "metadata": {},
     "output_type": "execute_result"
    }
   ],
   "source": [
    "AU_consistency[3526]"
   ]
  },
  {
   "cell_type": "code",
   "execution_count": 32,
   "id": "89764589",
   "metadata": {},
   "outputs": [
    {
     "data": {
      "text/plain": [
       "array([3.])"
      ]
     },
     "execution_count": 32,
     "metadata": {},
     "output_type": "execute_result"
    }
   ],
   "source": [
    "AU_consistency[3741]"
   ]
  },
  {
   "cell_type": "code",
   "execution_count": null,
   "id": "d380e652",
   "metadata": {},
   "outputs": [],
   "source": []
  }
 ],
 "metadata": {
  "kernelspec": {
   "display_name": "Python 3 (ipykernel)",
   "language": "python",
   "name": "python3"
  },
  "language_info": {
   "codemirror_mode": {
    "name": "ipython",
    "version": 3
   },
   "file_extension": ".py",
   "mimetype": "text/x-python",
   "name": "python",
   "nbconvert_exporter": "python",
   "pygments_lexer": "ipython3",
   "version": "3.7.5"
  }
 },
 "nbformat": 4,
 "nbformat_minor": 5
}

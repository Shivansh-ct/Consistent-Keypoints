{
 "cells": [
  {
   "cell_type": "code",
   "execution_count": 2,
   "id": "5c2e0201",
   "metadata": {},
   "outputs": [],
   "source": [
    "import numpy as np\n",
    "import pandas as pd\n",
    "import seaborn as sb\n",
    "from scipy.stats import entropy"
   ]
  },
  {
   "cell_type": "code",
   "execution_count": 3,
   "id": "8e52be23",
   "metadata": {},
   "outputs": [
    {
     "ename": "NameError",
     "evalue": "name 'pd' is not defined",
     "output_type": "error",
     "traceback": [
      "\u001b[0;31m---------------------------------------------------------------------------\u001b[0m",
      "\u001b[0;31mNameError\u001b[0m                                 Traceback (most recent call last)",
      "\u001b[0;32m/tmp/ipykernel_22092/857199828.py\u001b[0m in \u001b[0;36m<module>\u001b[0;34m\u001b[0m\n\u001b[0;32m----> 1\u001b[0;31m \u001b[0mall_keypoint_metrics\u001b[0m \u001b[0;34m=\u001b[0m \u001b[0mpd\u001b[0m\u001b[0;34m.\u001b[0m\u001b[0mread_csv\u001b[0m\u001b[0;34m(\u001b[0m\u001b[0;34m\"Data/all_t_data.csv\"\u001b[0m\u001b[0;34m)\u001b[0m\u001b[0;34m\u001b[0m\u001b[0;34m\u001b[0m\u001b[0m\n\u001b[0m",
      "\u001b[0;31mNameError\u001b[0m: name 'pd' is not defined"
     ]
    }
   ],
   "source": [
    "all_keypoint_metrics = pd.read_csv(\"Data/all_keypoint_metrics.csv\")\n",
    "\n",
    "ori_AU_consistency = np.loadtxt(\"Data/AU_consistency.txt\") "
   ]
  },
  {
   "cell_type": "code",
   "execution_count": 4,
   "id": "0d320f91",
   "metadata": {},
   "outputs": [
    {
     "ename": "NameError",
     "evalue": "name 'all_keypoint_metrics' is not defined",
     "output_type": "error",
     "traceback": [
      "\u001b[0;31m---------------------------------------------------------------------------\u001b[0m",
      "\u001b[0;31mNameError\u001b[0m                                 Traceback (most recent call last)",
      "\u001b[0;32m/tmp/ipykernel_22092/1318971907.py\u001b[0m in \u001b[0;36m<module>\u001b[0;34m\u001b[0m\n\u001b[0;32m----> 1\u001b[0;31m \u001b[0mavg_t\u001b[0m \u001b[0;34m=\u001b[0m \u001b[0mnp\u001b[0m\u001b[0;34m.\u001b[0m\u001b[0marray\u001b[0m\u001b[0;34m(\u001b[0m\u001b[0mall_keypoint_metrics\u001b[0m\u001b[0;34m[\u001b[0m\u001b[0;34m'Avg_t'\u001b[0m\u001b[0;34m]\u001b[0m\u001b[0;34m)\u001b[0m\u001b[0;34m\u001b[0m\u001b[0;34m\u001b[0m\u001b[0m\n\u001b[0m\u001b[1;32m      2\u001b[0m \u001b[0mmax_t\u001b[0m \u001b[0;34m=\u001b[0m \u001b[0mnp\u001b[0m\u001b[0;34m.\u001b[0m\u001b[0marray\u001b[0m\u001b[0;34m(\u001b[0m\u001b[0mall_keypoint_metrics\u001b[0m\u001b[0;34m[\u001b[0m\u001b[0;34m'Max_t'\u001b[0m\u001b[0;34m]\u001b[0m\u001b[0;34m)\u001b[0m\u001b[0;34m\u001b[0m\u001b[0;34m\u001b[0m\u001b[0m\n\u001b[1;32m      3\u001b[0m \u001b[0mavg_t2\u001b[0m \u001b[0;34m=\u001b[0m \u001b[0mnp\u001b[0m\u001b[0;34m.\u001b[0m\u001b[0marray\u001b[0m\u001b[0;34m(\u001b[0m\u001b[0mall_keypoint_metrics\u001b[0m\u001b[0;34m[\u001b[0m\u001b[0;34m'Avg_Bivariate_HT2'\u001b[0m\u001b[0;34m]\u001b[0m\u001b[0;34m)\u001b[0m\u001b[0;34m\u001b[0m\u001b[0;34m\u001b[0m\u001b[0m\n\u001b[1;32m      4\u001b[0m \u001b[0mmax_t2\u001b[0m \u001b[0;34m=\u001b[0m \u001b[0mnp\u001b[0m\u001b[0;34m.\u001b[0m\u001b[0marray\u001b[0m\u001b[0;34m(\u001b[0m\u001b[0mall_keypoint_metrics\u001b[0m\u001b[0;34m[\u001b[0m\u001b[0;34m'Max_Bivariate_HT2'\u001b[0m\u001b[0;34m]\u001b[0m\u001b[0;34m)\u001b[0m\u001b[0;34m\u001b[0m\u001b[0;34m\u001b[0m\u001b[0m\n\u001b[1;32m      5\u001b[0m \u001b[0mHT_t2\u001b[0m \u001b[0;34m=\u001b[0m \u001b[0mnp\u001b[0m\u001b[0;34m.\u001b[0m\u001b[0marray\u001b[0m\u001b[0;34m(\u001b[0m\u001b[0mall_keypoint_metrics\u001b[0m\u001b[0;34m[\u001b[0m\u001b[0;34m'Hotelling_t_2_PCA'\u001b[0m\u001b[0;34m]\u001b[0m\u001b[0;34m)\u001b[0m\u001b[0;34m\u001b[0m\u001b[0;34m\u001b[0m\u001b[0m\n",
      "\u001b[0;31mNameError\u001b[0m: name 'all_keypoint_metrics' is not defined"
     ]
    }
   ],
   "source": [
    "avg_t = np.array(all_keypoint_metrics['Avg_t'])\n",
    "max_t = np.array(all_keypoint_metrics['Max_t'])\n",
    "avg_t2 = np.array(all_keypoint_metrics['Avg_Bivariate_HT2'])\n",
    "max_t2 = np.array(all_keypoint_metrics['Max_Bivariate_HT2'])\n",
    "HT_t2 = np.array(all_keypoint_metrics['Hotelling_t_2_PCA'])\n",
    "\n"
   ]
  },
  {
   "cell_type": "markdown",
   "id": "771a7791",
   "metadata": {},
   "source": [
    "### Computing all the regression plots"
   ]
  },
  {
   "cell_type": "code",
   "execution_count": null,
   "id": "a175800a",
   "metadata": {},
   "outputs": [],
   "source": [
    "AU_consistency = 100*ori_AU_consistency/27\n",
    "df_temp = pd.DataFrame(AU_consistency, columns=['AU_consistency'])\n",
    "df_temp = pd.concat([df_temp, all_keypoint_metrics], axis=1)\n",
    "  \n",
    "metric_dict = {'Avg_t':\"Average $\\it{t}$-statistic\", 'Max_t':\"Maximum $\\it{t}$-statistic\", 'Avg_t2':\"Average $\\it{t}^{2}$-statistic\", 'Max_t2':\"Maximum $\\it{t}^{2}$-statistic\", 't2_with_PCA':\"$t^{2}$-statistic with PCA\"}\n",
    "\n",
    "for metric in metric_dict.keys():\n",
    "    fig, ax = plt.subplots()\n",
    "    ax.spines['top'].set_visible(True)\n",
    "    ax.spines['right'].set_visible(True)\n",
    "    ax.spines['bottom'].set_visible(True)\n",
    "    ax.spines['left'].set_visible(True)\n",
    "    \n",
    "    # all the plt features will work if placed after lmplot function\n",
    "    sb.lmplot(x = metric,\n",
    "                y = \"AU_consistency\", \n",
    "                ci = None,\n",
    "                data = df_temp, height=10, aspect=1, markers=\".\", line_kws={'color': 'purple'})\n",
    "    plt.ylim(0,110)\n",
    "#     plt.xlim(0,5.5)\n",
    "    plt.xlabel(metric_dict[metric], fontsize=28, fontweight='bold')\n",
    "    plt.ylabel(\"AU Consistency\", fontsize=28, fontweight='bold')\n",
    "#     plt.rcParams[\"axes.edgecolor\"] = \"black\"\n",
    "#     plt.rcParams[\"figure.autolayout\"] = True\n",
    "    plt.gca().spines['top'].set_visible(True)\n",
    "    plt.gca().spines['right'].set_visible(True)\n",
    "    plt.savefig(\"Results/\"+metric+\".jpg\", dpi=300)\n",
    "    plt.close()"
   ]
  },
  {
   "cell_type": "markdown",
   "id": "6baf5bfc",
   "metadata": {},
   "source": [
    "### comparing Avg t-statistic and AU consistency along the video timeline"
   ]
  },
  {
   "cell_type": "code",
   "execution_count": null,
   "id": "639666b3",
   "metadata": {},
   "outputs": [],
   "source": [
    "# y = reg.predict(avg_disfa_t.reshape(-1,1))\n",
    "y = AU_consistency.reshape(-1,1)\n",
    "y = y/np.amax(y)\n",
    "print(y.shape)\n",
    "# y = avg_selfdisfa3741_t.reshape(-1,1)\n",
    "x = np.arange(0, y.shape[0], 1)\n",
    "plt.figure(figsize=(20,10))\n",
    "mx=1.1\n",
    "plt.ylim(0,mx)\n",
    "# fig, axes = plt.subplot(1,1)\n",
    "for key in emotions_dict:\n",
    "    color = emotions_dict[key][0]\n",
    "    emotion = key\n",
    "    a, b = emotions_dict[key][1][0], emotions_dict[key][1][1] \n",
    "    plt.fill_between(x, 0, mx*np.ones(y.shape[0]), np.multiply(x>=a,x<b), color=color, label=emotion)\n",
    "# legend1 = plt.legend(loc='upper right', prop={'weight':'bold','size':14})\n",
    "legend1 = plt.legend(loc='center left', bbox_to_anchor=(1, 0.5), prop={'weight':'bold', 'size':39.5})\n",
    "# plt.plot(x, y, color='blue', label='DISFA')\n",
    "# plt.legend(loc='upper left')\n",
    "# y2 = reg.predict(avg_selfdisfa_t.reshape(-1,1))\n",
    "y2 = avg_t.reshape(-1,1)\n",
    "y2 = y2/np.amax(y2)\n",
    "plt.plot(x, y, color='navy', label='AU consistency')\n",
    "plt.plot(x, y2, color='purple', label='Average t-statistic')\n",
    "# plt.plot(x, y, color='tab:orange', label='AU consistency')\n",
    "# plt.plot(x, y2, color='tab:green', label='Average t-statistic')\n",
    "plt.legend(['AU consistency','Average t-statistic'],loc='upper right', prop={'weight':'bold','size':20})\n",
    "# Uncomment the below line to add the emotion color labels on side\n",
    "plt.gca().add_artist(legend1)\n",
    "plt.xlabel(\"Video Timeline (in Frames)\", fontsize=20, fontweight='bold')\n",
    "plt.ylabel(\"Consistency\", fontsize=20, fontweight='bold')\n",
    "# plt.vlines([191,771,1718], 0, [mx,mx,mx], linestyle=\"dashed\", color='black')\n",
    "# plt.xticks(np.concatenate((np.arange(0,5000,1000),np.array([191, 771, 1718]))))\n",
    "y_intercept=2.04\n",
    "# plt.axhline(y=y_intercept, linestyle='--', color='gray')\n",
    "# plt.text(0.1, y_intercept+0.07, f'y={y_intercept}', ha='right', va='center')\n",
    "# plt.show()\n",
    "plt.savefig(\"Figures_for_paper/disfa_compare_metrics.pdf\", dpi=300, bbox_inches='tight')\n",
    "plt.close()"
   ]
  },
  {
   "cell_type": "markdown",
   "id": "8855e4cb",
   "metadata": {},
   "source": [
    "### Creating class distribution of all the metrics"
   ]
  },
  {
   "cell_type": "code",
   "execution_count": null,
   "id": "50b410e6",
   "metadata": {},
   "outputs": [],
   "source": [
    "# Emotions dictionary\n",
    "emotions_dict = {\n",
    "    \"Happy0\": ['thistle', [64, 341]],\n",
    "    \"Happy1\": ['lavender', [341, 816]],\n",
    "    \"Surprise0\": ['mediumpurple', [816, 1232]],\n",
    "    \"Fear\": ['slateblue', [1232, 1413]],\n",
    "    \"Disgust0\": ['lightgrey', [1413, 1934]],\n",
    "    \"Disgust1\": ['royalblue', [1934, 2514]],\n",
    "    \"Sadness0\": ['deepskyblue', [2514, 3264]],\n",
    "    \"Sadness1\": ['lightsteelblue', [3264, 3993]],\n",
    "    \"Surprise1\": ['cornflowerblue', [3993, 4831]]\n",
    "}"
   ]
  },
  {
   "cell_type": "code",
   "execution_count": null,
   "id": "02833403",
   "metadata": {},
   "outputs": [],
   "source": [
    "import numpy as np\n",
    "import pandas as pd\n",
    "\n",
    "percentages_list = []\n",
    "for x in [AU_consistency, avg_t, max_t, avg_t2, max_t2, HT_t2]:\n",
    "\n",
    "    # Define quartiles function\n",
    "    def calculate_quartiles(arr):\n",
    "        q1 = np.percentile(arr, 30)\n",
    "        q2 = np.percentile(arr, 60)\n",
    "        q3 = np.percentile(arr, 90)\n",
    "        return q1, q2, q3\n",
    "\n",
    "    # Create a DataFrame to store the results\n",
    "    result_df = pd.DataFrame(columns=[\"Inconsistent\", \"Low Consistent\", \"Mild Consistent\", \"High Consistent\"])\n",
    "\n",
    "    # Iterate through each emotion in the dictionary\n",
    "    for emotion, (color, index_range) in emotions_dict.items():\n",
    "        start_index, end_index = index_range\n",
    "\n",
    "        # Extract values within the specified index range\n",
    "        subset = x[start_index:end_index]\n",
    "\n",
    "        # Calculate quartiles\n",
    "        q1, q2, q3 = calculate_quartiles(x)\n",
    "        print(q1, q2, q3, np.amax(x))\n",
    "\n",
    "        # Categorize values\n",
    "        category = np.zeros_like(subset, dtype=int)\n",
    "        category[subset < q1] = 1\n",
    "        category[(subset >= q1) & (subset < q2)] = 2\n",
    "        category[(subset >= q2) & (subset < q3)] = 3\n",
    "        category[subset >= q3] = 4\n",
    "\n",
    "        # Calculate percentages\n",
    "        percentages = np.array([int(np.round(np.mean(category == i) * 100)) for i in range(1, 5)])\n",
    "\n",
    "        # Add row to the DataFrame\n",
    "        result_df.loc[emotion] = percentages\n",
    "        # Add mean, max, and min for each column\n",
    "    percentages_list.append(result_df.to_numpy(dtype=np.float))\n",
    "    # Display the result\n",
    "#     result_df.loc['Mean'] = result_df.mean()\n",
    "#     result_df.loc['Max'] = result_df.max()\n",
    "#     result_df.loc['Min'] = result_df.min()\n",
    "    print(result_df)\n"
   ]
  },
  {
   "cell_type": "markdown",
   "id": "fcb031ca",
   "metadata": {},
   "source": [
    "### Computing KL-divergence between the tables"
   ]
  },
  {
   "cell_type": "code",
   "execution_count": null,
   "id": "c5374ac8",
   "metadata": {},
   "outputs": [],
   "source": [
    "# Ensure that all elements in percentages_list are NumPy arrays\n",
    "for array in percentages_list:\n",
    "    if not isinstance(array, np.ndarray):\n",
    "        raise ValueError(\"All elements in percentages_list should be NumPy arrays.\")\n",
    "\n",
    "# Extract the first array\n",
    "first_array = percentages_list[0]\n",
    "\n",
    "# Extract Category rows from the first array\n",
    "category_rows_first_array = [first_array[i, :] for i in range(9)]\n",
    "\n",
    "# Extract the last five arrays\n",
    "last_five_arrays = percentages_list[1:]\n",
    "\n",
    "# Initialize a 5x9 matrix to store KL divergences\n",
    "kl_divergences_matrix = np.zeros((5, 9))\n",
    "\n",
    "# Calculate KL divergence for each combination of Category rows\n",
    "for i, category_row_first_array in enumerate(category_rows_first_array):\n",
    "    for j, array in enumerate(last_five_arrays):\n",
    "        category_row_array = array[i, :]\n",
    "        \n",
    "        # Add a small epsilon to avoid division by zero\n",
    "        epsilon = 1e-10\n",
    "        kl_divergence = entropy(category_row_first_array/100 + epsilon, category_row_array/100 + epsilon)\n",
    "#         kl_divergence = entropy(category_row_array/100 + epsilon, category_row_first_array/100 + epsilon)\n",
    "        kl_divergences_matrix[j, i] = kl_divergence\n",
    "\n",
    "# Display the KL Divergences matrix\n",
    "print(\"KL Divergences Matrix:\")\n",
    "print(kl_divergences_matrix)\n",
    "\n",
    "# Compute the average of each row\n",
    "average_divergences_per_row = np.mean(kl_divergences_matrix, axis=1)\n",
    "\n",
    "# Display the average divergences\n",
    "print(\"\\nAverage KL Divergences per Row:\")\n",
    "print(average_divergences_per_row)\n"
   ]
  }
 ],
 "metadata": {
  "kernelspec": {
   "display_name": "Python 3 (ipykernel)",
   "language": "python",
   "name": "python3"
  },
  "language_info": {
   "codemirror_mode": {
    "name": "ipython",
    "version": 3
   },
   "file_extension": ".py",
   "mimetype": "text/x-python",
   "name": "python",
   "nbconvert_exporter": "python",
   "pygments_lexer": "ipython3",
   "version": "3.7.5"
  }
 },
 "nbformat": 4,
 "nbformat_minor": 5
}
